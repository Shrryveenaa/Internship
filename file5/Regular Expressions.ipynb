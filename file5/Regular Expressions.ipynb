{
 "cells": [
  {
   "cell_type": "markdown",
   "id": "2251b380",
   "metadata": {},
   "source": [
    "# Question 1- Write a Python program to check that a string contains only a certain set of characters (in this case a-z, A-Z and 0-9)."
   ]
  },
  {
   "cell_type": "code",
   "execution_count": 1,
   "id": "616ab2d1",
   "metadata": {},
   "outputs": [
    {
     "name": "stdout",
     "output_type": "stream",
     "text": [
      "True\n",
      "False\n"
     ]
    }
   ],
   "source": [
    "import re\n",
    "\n",
    "def is_allowed_specific_char(string):\n",
    "    charRe = re.compile(r'[^a-zA-Z0-9.]')\n",
    "    string = charRe.search(string)\n",
    "    return not bool(string)\n",
    "print(is_allowed_specific_char(\"ABCDEFabcdef123450\"))#true\n",
    "print(is_allowed_specific_char(\"*&%@#!}{\"))"
   ]
  },
  {
   "cell_type": "markdown",
   "id": "7ca17fe0",
   "metadata": {},
   "source": [
    "# Question 2- Create a function in python that matches a string that has an a followed by zero or more b's"
   ]
  },
  {
   "cell_type": "code",
   "execution_count": 2,
   "id": "1060ab37",
   "metadata": {},
   "outputs": [
    {
     "name": "stdout",
     "output_type": "stream",
     "text": [
      "Not matched\n",
      "Not matched\n",
      "Found a match!\n",
      "Found a match!\n",
      "Found a match!\n"
     ]
    }
   ],
   "source": [
    "import re\n",
    "def text_match(text):\n",
    "    patterns = '^a(b*)$'\n",
    "    if re.search(patterns, text):\n",
    "        return 'Found a match!'\n",
    "    else:\n",
    "        return('Not matched')\n",
    "\n",
    "print(text_match(\"ac\"))\n",
    "print(text_match(\"abc\"))\n",
    "print(text_match(\"a\"))\n",
    "print(text_match(\"ab\"))\n",
    "print(text_match(\"abb\"))\n"
   ]
  },
  {
   "cell_type": "markdown",
   "id": "8727dcb6",
   "metadata": {},
   "source": [
    "# Question 3-  Create a function in python that matches a string that has an a followed by one or more b's"
   ]
  },
  {
   "cell_type": "code",
   "execution_count": 4,
   "id": "ee78f016",
   "metadata": {},
   "outputs": [
    {
     "name": "stdout",
     "output_type": "stream",
     "text": [
      "Found a match!\n",
      "Found a match!\n"
     ]
    }
   ],
   "source": [
    "import re\n",
    "def text_match(text):\n",
    "    patterns = 'ab+?'\n",
    "    if re.search(patterns, text):\n",
    "        return 'Found a match!'\n",
    "    else:\n",
    "        return ('Not matched!')\n",
    "    \n",
    "print(text_match(\"ab\"))\n",
    "print(text_match(\"abc\"))\n",
    "        "
   ]
  },
  {
   "cell_type": "markdown",
   "id": "96223c7c",
   "metadata": {},
   "source": [
    "# Question 4- Create a function in Python and use RegEx that matches a string that has an a followed by zero or one 'b'."
   ]
  },
  {
   "cell_type": "code",
   "execution_count": 5,
   "id": "74331acd",
   "metadata": {},
   "outputs": [
    {
     "name": "stdout",
     "output_type": "stream",
     "text": [
      "Found a match!\n",
      "Found a match!\n",
      "Found a match!\n",
      "Found a match!\n"
     ]
    }
   ],
   "source": [
    "import re\n",
    "def text_match(text):\n",
    "    patterns = 'ab?'\n",
    "    if re.search(patterns, text):\n",
    "        return \"Found a match!\"\n",
    "    else:\n",
    "        return (\"Not matched!\")\n",
    "\n",
    "print(text_match(\"ab\"))\n",
    "\n",
    "print(text_match(\"abc\"))\n",
    "\n",
    "print(text_match(\"abbc\"))\n",
    "\n",
    "print(text_match(\"aabbc\"))    "
   ]
  },
  {
   "cell_type": "markdown",
   "id": "c9fef075",
   "metadata": {},
   "source": [
    "# Question 5- Write a Python program that matches a string that has an a followed by three 'b'."
   ]
  },
  {
   "cell_type": "code",
   "execution_count": 8,
   "id": "12ec737a",
   "metadata": {},
   "outputs": [
    {
     "name": "stdout",
     "output_type": "stream",
     "text": [
      "Found a match!\n",
      "Found a match!\n",
      "Not matched!\n"
     ]
    }
   ],
   "source": [
    "import re\n",
    "def text_match(text):\n",
    "    patterns = \"ab{3}?\"\n",
    "    if re.search(patterns, text):\n",
    "        return \"Found a match!\"\n",
    "    else:\n",
    "        return(\"Not matched!\")\n",
    "    \n",
    "print(text_match(\"abbb\"))\n",
    "print(text_match(\"aabbbbbc\"))\n",
    "print(text_match(\"aabc\"))"
   ]
  },
  {
   "cell_type": "markdown",
   "id": "d8b484b3",
   "metadata": {},
   "source": [
    "# Question 6- Write a regular expression in Python to split a string into uppercase letters.\n",
    "Sample text: “ImportanceOfRegularExpressionsInPython”\n",
    "Output: [‘Importance’, ‘Of’, ‘Regular’, ‘Expression’, ‘In’, ‘Python’]\n"
   ]
  },
  {
   "cell_type": "code",
   "execution_count": 9,
   "id": "6f4814ae",
   "metadata": {},
   "outputs": [
    {
     "name": "stdout",
     "output_type": "stream",
     "text": [
      "['Importance', 'Of', 'Regular', 'Expressions', 'In', 'Python']\n"
     ]
    }
   ],
   "source": [
    "import re\n",
    "text = \"ImportanceOfRegularExpressionsInPython\"\n",
    "print(re.findall('[A-Z][^A-Z]*', text))"
   ]
  },
  {
   "cell_type": "markdown",
   "id": "90038fc5",
   "metadata": {},
   "source": [
    "# Question 7- Write a Python program that matches a string that has an a followed by two to three 'b'."
   ]
  },
  {
   "cell_type": "code",
   "execution_count": 10,
   "id": "87f471c4",
   "metadata": {},
   "outputs": [
    {
     "name": "stdout",
     "output_type": "stream",
     "text": [
      "not matched\n",
      "found a match!\n",
      "found a match!\n"
     ]
    }
   ],
   "source": [
    "import re\n",
    "def text_match(text):\n",
    "    patterns = \"ab{2,3}\"\n",
    "    if re.search(patterns, text):\n",
    "        return \"found a match!\"\n",
    "    else:\n",
    "        return(\"not matched\")\n",
    "    \n",
    "print(text_match(\"ab\"))\n",
    "print(text_match(\"aabbbbbbc\"))\n",
    "print(text_match(\"aabbbbbbccc\"))\n",
    "\n"
   ]
  },
  {
   "cell_type": "markdown",
   "id": "37db09a5",
   "metadata": {},
   "source": [
    "# Question 8- Write a Python program to find sequences of lowercase letters joined with a underscore."
   ]
  },
  {
   "cell_type": "code",
   "execution_count": 11,
   "id": "7c675865",
   "metadata": {},
   "outputs": [
    {
     "name": "stdout",
     "output_type": "stream",
     "text": [
      "Found a match!\n",
      "Found a match!\n",
      "not matched!\n"
     ]
    }
   ],
   "source": [
    "import re\n",
    "def text_match(text):\n",
    "    patterns = \"^[a-z]+_[a-z]+$\"\n",
    "    if re.search(patterns, text):\n",
    "        return \"Found a match!\"\n",
    "    else:\n",
    "        return(\"not matched!\")\n",
    "    \n",
    "print(text_match(\"aab_cbbbc\"))\n",
    "print(text_match(\"aab_abbbbc\"))\n",
    "print(text_match(\"Aabbb_abbbccc\"))\n",
    "    \n",
    "    \n",
    "        "
   ]
  },
  {
   "cell_type": "markdown",
   "id": "606f1a45",
   "metadata": {},
   "source": [
    "# Question 9- Write a Python program that matches a string that has an 'a' followed by anything, ending in 'b'."
   ]
  },
  {
   "cell_type": "code",
   "execution_count": 13,
   "id": "9dea53c3",
   "metadata": {},
   "outputs": [
    {
     "name": "stdout",
     "output_type": "stream",
     "text": [
      "Not matched!\n",
      "Not matched!\n",
      "Found a match!\n",
      "Found a match!\n"
     ]
    }
   ],
   "source": [
    "import re\n",
    "def text_match(text):\n",
    "    patterns = \"a.*?b$\"\n",
    "    if re.search(patterns, text):\n",
    "        return \"Found a match!\"\n",
    "    else:\n",
    "        return(\"Not matched!\")\n",
    "    \n",
    "print(text_match(\"aabbbbd\"))\n",
    "print(text_match(\"aabAbbbc\"))\n",
    "print(text_match(\"accddbbjjb\"))\n",
    "print(text_match(\"abbb\"))"
   ]
  },
  {
   "cell_type": "markdown",
   "id": "2242d75e",
   "metadata": {},
   "source": [
    "# Question 10- Write a Python program that matches a word at the beginning of a string."
   ]
  },
  {
   "cell_type": "code",
   "execution_count": 14,
   "id": "7fdc465f",
   "metadata": {},
   "outputs": [
    {
     "name": "stdout",
     "output_type": "stream",
     "text": [
      "Found a match!\n",
      "Found a match!\n"
     ]
    }
   ],
   "source": [
    "import re\n",
    "def text_match(text):\n",
    "    patterns = \"^\\w+\"\n",
    "    if re.search(patterns, text):\n",
    "        return \"Found a match!\"\n",
    "    else:\n",
    "        return(\"Not matched!\")\n",
    "    \n",
    "print(text_match(\"I love to have chocolates\"))\n",
    "print(text_match(\"I love to have chocolates\"))\n",
    "    "
   ]
  },
  {
   "cell_type": "markdown",
   "id": "66578401",
   "metadata": {},
   "source": [
    "# Question 11- Write a Python program to match a string that contains only upper and lowercase letters, numbers, and underscores."
   ]
  },
  {
   "cell_type": "code",
   "execution_count": 15,
   "id": "cb06de5e",
   "metadata": {},
   "outputs": [
    {
     "name": "stdout",
     "output_type": "stream",
     "text": [
      "Not matched\n",
      "Found a match!\n"
     ]
    }
   ],
   "source": [
    "import re\n",
    "def text_match(text):\n",
    "    patterns = \"^[a-zA-z0-9_]*$\"\n",
    "    if re.search(patterns, text):\n",
    "        return \"Found a match!\"\n",
    "    else:\n",
    "        return(\"Not matched\")\n",
    "    \n",
    "print(text_match(\"I love to have chocolates\"))\n",
    "print(text_match(\"love_CadburyDairymilkChocolates_1\"))\n",
    "    "
   ]
  },
  {
   "cell_type": "markdown",
   "id": "22661b77",
   "metadata": {},
   "source": [
    "# Question 12- Write a Python program where a string will start with a specific number. "
   ]
  },
  {
   "cell_type": "code",
   "execution_count": 16,
   "id": "4cca15e8",
   "metadata": {},
   "outputs": [
    {
     "name": "stdout",
     "output_type": "stream",
     "text": [
      "True\n",
      "False\n"
     ]
    }
   ],
   "source": [
    "import re\n",
    "def match_num(string):\n",
    "    text = re.compile(r\"^5\")\n",
    "    if text.match(string):\n",
    "        return True\n",
    "    else:\n",
    "        return False\n",
    "    \n",
    "print(match_num(\"5-1234567\"))\n",
    "print(match_num(\"9-1234567\"))"
   ]
  },
  {
   "cell_type": "markdown",
   "id": "98b6c2ef",
   "metadata": {},
   "source": [
    "# Question 13- Write a Python program to remove leading zeros from an IP address"
   ]
  },
  {
   "cell_type": "code",
   "execution_count": 17,
   "id": "c0fa66a5",
   "metadata": {},
   "outputs": [
    {
     "name": "stdout",
     "output_type": "stream",
     "text": [
      "103.159.251.75\n"
     ]
    }
   ],
   "source": [
    "import re\n",
    "ip = \"103.159.251.75\"\n",
    "string = re.sub(\"\\.[0]*\",\".\",ip)\n",
    "print(string)"
   ]
  },
  {
   "cell_type": "markdown",
   "id": "c3218dd2",
   "metadata": {},
   "source": [
    "# Question 14- Write a regular expression in python to match a date string in the form of Month name followed by day number and year stored in a text file.\n",
    "Sample text : ' On August 15th 1947 that India was declared independent from British colonialism, and the reins of control were handed over to the leaders of the Country’.\n",
    "\n"
   ]
  },
  {
   "cell_type": "code",
   "execution_count": 18,
   "id": "46030ce1",
   "metadata": {},
   "outputs": [
    {
     "name": "stdout",
     "output_type": "stream",
     "text": [
      "August 15, 1947\n"
     ]
    }
   ],
   "source": [
    "import re\n",
    "regex = r\"([a-zA-Z]+) (\\d{1,2}), (\\d{4})\"\n",
    "test = \"August 15, 1947\"\n",
    "matches = re.search(regex, test)\n",
    "\n",
    "if matches:\n",
    "    print(matches.group())"
   ]
  },
  {
   "cell_type": "markdown",
   "id": "2258ddc5",
   "metadata": {},
   "source": [
    "# Question 15- Write a Python program to search some literals strings in a string. Go to the editor\n",
    "Sample text : 'The quick brown fox jumps over the lazy dog.'\n",
    "Searched words : 'fox', 'dog', 'horse'\n"
   ]
  },
  {
   "cell_type": "code",
   "execution_count": 21,
   "id": "29543f0f",
   "metadata": {},
   "outputs": [
    {
     "name": "stdout",
     "output_type": "stream",
     "text": [
      "Searching for \"fox\" in \"The quick brown fox jumps over the lazy dog.\" ->\n",
      "Matched!\n",
      "Searching for \"dog\" in \"The quick brown fox jumps over the lazy dog.\" ->\n",
      "Matched!\n",
      "Searching for \"horse\" in \"The quick brown fox jumps over the lazy dog.\" ->\n",
      "Not Matched!\n"
     ]
    }
   ],
   "source": [
    "import re\n",
    "patterns = ['fox','dog','horse']\n",
    "text = 'The quick brown fox jumps over the lazy dog.'\n",
    "for pattern in patterns:\n",
    "    print('Searching for \"%s\" in \"%s\" ->' %(pattern, text),)\n",
    "    if re.search(pattern,text):\n",
    "        print(\"Matched!\")\n",
    "    else:\n",
    "        print(\"Not Matched!\")"
   ]
  },
  {
   "cell_type": "markdown",
   "id": "49e9ab88",
   "metadata": {},
   "source": [
    "# Question 16- Write a Python program to search a literals string in a string and also find the location within the original string where the pattern occurs\n",
    "Sample text : 'The quick brown fox jumps over the lazy dog.'\n",
    "Searched words : 'fox'\n"
   ]
  },
  {
   "cell_type": "code",
   "execution_count": 22,
   "id": "0bcf195c",
   "metadata": {},
   "outputs": [
    {
     "name": "stdout",
     "output_type": "stream",
     "text": [
      "Found \"fox in \"The quick brown fox jumps over the lazy dog.\" from 16 to 19 \n"
     ]
    }
   ],
   "source": [
    "import re\n",
    "pattern = \"fox\"\n",
    "text = \"The quick brown fox jumps over the lazy dog.\"\n",
    "match = re.search(pattern, text)\n",
    "s = match.start()\n",
    "e = match.end()\n",
    "print('Found \"%s in \"%s\" from %d to %d ' % \n",
    "     (match.re.pattern, match.string, s, e))"
   ]
  },
  {
   "cell_type": "markdown",
   "id": "e66fd165",
   "metadata": {},
   "source": [
    "# Question 17- Write a Python program to find the substrings within a string.\n",
    "Sample text : 'Python exercises, PHP exercises, C# exercises'\n",
    "Pattern : 'exercises'.\n"
   ]
  },
  {
   "cell_type": "code",
   "execution_count": 23,
   "id": "c2e8a0ed",
   "metadata": {},
   "outputs": [
    {
     "name": "stdout",
     "output_type": "stream",
     "text": [
      "Found \"exercises\"\n",
      "Found \"exercises\"\n",
      "Found \"exercises\"\n"
     ]
    }
   ],
   "source": [
    "import re\n",
    "text = 'Python exercises, PHP exercises, C# exercises'\n",
    "pattern = \"exercises\"\n",
    "for match in re.findall(pattern, text):\n",
    "    print('Found \"%s\"' % match)"
   ]
  },
  {
   "cell_type": "markdown",
   "id": "583e44b7",
   "metadata": {},
   "source": [
    "# Question 18- Write a Python program to find the occurrence and position of the substrings within a string."
   ]
  },
  {
   "cell_type": "code",
   "execution_count": 25,
   "id": "f1cfb7ea",
   "metadata": {},
   "outputs": [
    {
     "name": "stdout",
     "output_type": "stream",
     "text": [
      "Found \"exercises\" at 7:16\n",
      "Found \"exercises\" at 22:31\n",
      "Found \"exercises\" at 36:45\n"
     ]
    }
   ],
   "source": [
    "import re\n",
    "text = 'Python exercises, PHP exercises, C# exercises'\n",
    "pattern = \"exercises\"\n",
    "for match in re.finditer(pattern, text):\n",
    "    s = match.start()\n",
    "    e = match.end()\n",
    "    \n",
    "    print('Found \"%s\" at %d:%d' % (text[s:e],s,e))"
   ]
  },
  {
   "cell_type": "markdown",
   "id": "d321c583",
   "metadata": {},
   "source": [
    "# Question 19- Write a Python program to convert a date of yyyy-mm-dd format to dd-mm-yyyy format."
   ]
  },
  {
   "cell_type": "code",
   "execution_count": 26,
   "id": "6735872a",
   "metadata": {},
   "outputs": [
    {
     "name": "stdout",
     "output_type": "stream",
     "text": [
      "Original date in YYY-MM-DD Format:  2023-07-13\n",
      "New date in DD-MM-YYYY Format:  13-07-2023\n"
     ]
    }
   ],
   "source": [
    "import re\n",
    "def change_date_format(dt):\n",
    "    return re.sub(r'(\\d{4})-(\\d{1,2})-(\\d{1,2})', '\\\\3-\\\\2-\\\\1', dt)\n",
    "dt1=\"2023-07-13\"\n",
    "print(\"Original date in YYY-MM-DD Format: \",dt1)\n",
    "print(\"New date in DD-MM-YYYY Format: \",change_date_format(dt1))"
   ]
  },
  {
   "cell_type": "markdown",
   "id": "168c03d6",
   "metadata": {},
   "source": [
    "# Question 20- Write a Python program to find all words starting with 'a' or 'e' in a given string."
   ]
  },
  {
   "cell_type": "code",
   "execution_count": 27,
   "id": "5a810e73",
   "metadata": {},
   "outputs": [
    {
     "name": "stdout",
     "output_type": "stream",
     "text": [
      "['example', 'eates', 'an', 'ayList', 'apacity', 'elements', 'elements', 'are', 'en', 'added', 'ayList', 'and', 'ayList', 'ed', 'accordingly']\n"
     ]
    }
   ],
   "source": [
    "import re\n",
    "text = \"The following example creates an ArrayList with a capacity of 50 elements. Four elements are then added to the ArrayList and the ArrayList is trimmed accordingly.\"\n",
    "list = re.findall(\"[ae]\\w+\", text) #find all the words starting with 'a' or 'e'\n",
    "print(list)"
   ]
  },
  {
   "cell_type": "markdown",
   "id": "4b1faa21",
   "metadata": {},
   "source": [
    "# Question 21- Write a Python program to separate and print the numbers and their position of a given string."
   ]
  },
  {
   "cell_type": "code",
   "execution_count": 28,
   "id": "d8415c69",
   "metadata": {},
   "outputs": [
    {
     "name": "stdout",
     "output_type": "stream",
     "text": [
      "50\n",
      "index position: 62\n"
     ]
    }
   ],
   "source": [
    "import re\n",
    "text = \"The following example creates an ArrayList with a capacity of 50 elements. Four elements are then added to the ArrayList and the ArrayList is trimmed accordingly.\"\n",
    "for k in re.finditer(\"\\d+\", text):\n",
    "    print(k.group(0))\n",
    "    print(\"index position:\", k.start())"
   ]
  },
  {
   "cell_type": "markdown",
   "id": "d3f75236",
   "metadata": {},
   "source": [
    "# Question 22- Write a regular expression in python program to extract maximum numeric value from a string"
   ]
  },
  {
   "cell_type": "code",
   "execution_count": 29,
   "id": "b68dd3b7",
   "metadata": {},
   "outputs": [
    {
     "name": "stdout",
     "output_type": "stream",
     "text": [
      "123\n"
     ]
    }
   ],
   "source": [
    "import re\n",
    "\n",
    "string=\"ab12cd123ef23\"\n",
    "pattern = r'\\d+'\n",
    "numbers = re.findall(pattern, string)\n",
    "max_num = max(map(int, numbers))\n",
    "print(max_num)   "
   ]
  },
  {
   "cell_type": "markdown",
   "id": "c78378ad",
   "metadata": {},
   "source": [
    "# Question 23- Write a Regex in Python to put spaces between words starting with capital letters"
   ]
  },
  {
   "cell_type": "code",
   "execution_count": 30,
   "id": "bdbdc6b4",
   "metadata": {},
   "outputs": [
    {
     "name": "stdout",
     "output_type": "stream",
     "text": [
      "This Is A String With Words Starting With Capital Letters\n"
     ]
    }
   ],
   "source": [
    "import re \n",
    "\n",
    "text=\"ThisIsAStringWithWordsStartingWithCapitalLetters\"\n",
    "\n",
    "new_text = re.sub(r'(?<!^)(?=[A-Z])',' ', text)\n",
    "\n",
    "print(new_text)"
   ]
  },
  {
   "cell_type": "markdown",
   "id": "7c00756e",
   "metadata": {},
   "source": [
    "# Question 24- Python regex to find sequences of one upper case letter followed by lower case letters"
   ]
  },
  {
   "cell_type": "code",
   "execution_count": 31,
   "id": "f5241dbf",
   "metadata": {},
   "outputs": [
    {
     "name": "stdout",
     "output_type": "stream",
     "text": [
      "Found a match!\n",
      "Found a match!\n",
      "Not matched!\n",
      "Not matched!\n",
      "Not matched!\n",
      "Found a match!\n"
     ]
    }
   ],
   "source": [
    "import re\n",
    "def text_match(text):\n",
    "    patterns = '[A-Z]+[a-z]+$'\n",
    "    if re.search(patterns, text):\n",
    "        return \"Found a match!\"\n",
    "    else:\n",
    "        return(\"Not matched!\")\n",
    "    \n",
    "print(text_match(\"AaBbGg\"))\n",
    "print(text_match(\"Python\"))\n",
    "print(text_match(\"python\"))\n",
    "print(text_match(\"ABCD\"))\n",
    "print(text_match(\"aA\"))\n",
    "print(text_match(\"Aa\"))"
   ]
  },
  {
   "cell_type": "markdown",
   "id": "e5368455",
   "metadata": {},
   "source": [
    "# Question 25- Write a Python program to remove duplicate words from Sentence using Regular Expression"
   ]
  },
  {
   "cell_type": "code",
   "execution_count": 32,
   "id": "6012739b",
   "metadata": {},
   "outputs": [
    {
     "name": "stdout",
     "output_type": "stream",
     "text": [
      "How are you\n",
      "Programming is fun\n",
      "Remove duplicate words from text\n"
     ]
    }
   ],
   "source": [
    "import re\n",
    "\n",
    "def removeDuplicatesFromText(text):\n",
    "    regex = r'\\b(\\w+)(?:\\W+\\1\\b)+'\n",
    "    return re.sub(regex, r'\\1', text, flags=re.IGNORECASE)\n",
    "\n",
    "str1 = \"How are are you\"\n",
    "print(removeDuplicatesFromText(str1))\n",
    "\n",
    "str2 =\"Programming is fun fun\"\n",
    "print(removeDuplicatesFromText(str2))\n",
    "\n",
    "str3 = \"Remove duplicate words from from text\"\n",
    "print(removeDuplicatesFromText(str3))\n"
   ]
  },
  {
   "cell_type": "markdown",
   "id": "5e5e93bd",
   "metadata": {},
   "source": [
    "# Question 26-  Write a python program using RegEx to accept string ending with alphanumeric character."
   ]
  },
  {
   "cell_type": "code",
   "execution_count": 34,
   "id": "4e9d6384",
   "metadata": {},
   "outputs": [
    {
     "name": "stdout",
     "output_type": "stream",
     "text": [
      "The string ends with an alphanumeric character\n"
     ]
    }
   ],
   "source": [
    "import re\n",
    "\n",
    "regex_expression = '[a-zA-Z0-9]$'\n",
    "\n",
    "def check_string(my_string):\n",
    "    if(re.search(regex_expression, my_string)):\n",
    "        print(\"The string ends with an alphanumeric character\")\n",
    "    else:\n",
    "        print(\"The string does not end with an alphanumeric character\")\n",
    "        \n",
    "my_string = \"Hello world 123\"\n",
    "check_string(my_string)"
   ]
  },
  {
   "cell_type": "markdown",
   "id": "657d3dc3",
   "metadata": {},
   "source": [
    "# Question 27-Write a python program using RegEx to extract the hashtags.\n",
    "Sample Text: text = \"\"\"RT @kapil_kausik: #Doltiwal I mean #xyzabc is \"hurt\" by #Demonetization as the same has rendered USELESS <ed><U+00A0><U+00BD><ed><U+00B1><U+0089> \"acquired funds\" No wo\"\"\"\n",
    "Output: ['#Doltiwal', '#xyzabc', '#Demonetization']\n"
   ]
  },
  {
   "cell_type": "code",
   "execution_count": 42,
   "id": "11a03d43",
   "metadata": {},
   "outputs": [
    {
     "name": "stdout",
     "output_type": "stream",
     "text": [
      "['#Doltiwal', '#xyzabc', '#Demonetization']\n"
     ]
    }
   ],
   "source": [
    "import re\n",
    "string = \"\"\"RT @kapil_kausik: #Doltiwal I mean #xyzabc is \"hurt\" by #Demonetization as the same has rendered USELESS <ed><U+00A0><U+00BD><ed><U+00B1><U+0089> \"acquired funds\" No wo\"\"\"\n",
    "pattern =\"#\\w+\"\n",
    "hashtags = re.findall(pattern, string)\n",
    "print(hashtags)"
   ]
  },
  {
   "cell_type": "markdown",
   "id": "48aa1b54",
   "metadata": {},
   "source": [
    "# Question 28- Write a python program using RegEx to remove <U+..> like symbols\n",
    "Check the below sample text, there are strange symbols something of the sort <U+..> all over the place. You need to come up with a general Regex expression that will cover all such symbols.\n",
    "Sample Text: \"@Jags123456 Bharat band on 28??<ed><U+00A0><U+00BD><ed><U+00B8><U+0082>Those who  are protesting #demonetization  are all different party leaders\"\n",
    "Output: @Jags123456 Bharat band on 28??<ed><ed>Those who  are protesting #demonetization  are all different party leaders\n"
   ]
  },
  {
   "cell_type": "code",
   "execution_count": 43,
   "id": "b1a7e447",
   "metadata": {},
   "outputs": [
    {
     "name": "stdout",
     "output_type": "stream",
     "text": [
      "@Jags123456 Bharat band on 28??Those who  are protesting #demonetization  are all different party leaders\n"
     ]
    }
   ],
   "source": [
    "import re\n",
    "\n",
    "string = \"@Jags123456 Bharat band on 28??<ed><U+00A0><U+00BD><ed><U+00B8><U+0082>Those who  are protesting #demonetization  are all different party leaders\"\n",
    "\n",
    "pattern = '<.*?>'\n",
    "\n",
    "replace = ''\n",
    "\n",
    "new_string = re.sub(pattern, replace, string)\n",
    "\n",
    "print(new_string)"
   ]
  },
  {
   "cell_type": "markdown",
   "id": "45f46421",
   "metadata": {},
   "source": [
    "# Question 29- Write a python program to extract dates from the text stored in the text file.\n",
    "Sample Text: Ron was born on 12-09-1992 and he was admitted to school 15-12-1999.\n",
    "Store this sample text in the file and then extract dates.\n"
   ]
  },
  {
   "cell_type": "code",
   "execution_count": 48,
   "id": "86a4d561",
   "metadata": {},
   "outputs": [
    {
     "name": "stdout",
     "output_type": "stream",
     "text": [
      "12-09-1992\n",
      "15-12-1999\n"
     ]
    }
   ],
   "source": [
    "import re\n",
    "content =\"(Ron was born on 12-09-1992 and he was admitted to school 15-12-1999.)\"\n",
    "(\"Store this sample text in the file and then extract dates\")\n",
    "pattern =\"\\d{2}[/-]\\d{2}[\\-]\\d{4}\"\n",
    "dates = re.findall(pattern, content)\n",
    "\n",
    "for date in dates:\n",
    "    if \"-\" in date:\n",
    "        day, month, year = map(int, date.split(\"-\"))\n",
    "    else:\n",
    "        day, month, year = map(int, date.split(\"/\"))\n",
    "    if 1 <= day <= 31 and 1 <= month <= 12:\n",
    "        print(date)\n",
    "        \n"
   ]
  },
  {
   "cell_type": "markdown",
   "id": "3a9c77ca",
   "metadata": {},
   "source": [
    "# Question 30- Write a Python program to replace all occurrences of a space, comma, or dot with a colon.\n",
    "Sample Text- 'Python Exercises, PHP exercises.'\n",
    "Output: Python:Exercises::PHP:exercises:\n"
   ]
  },
  {
   "cell_type": "code",
   "execution_count": 49,
   "id": "206f904f",
   "metadata": {},
   "outputs": [
    {
     "name": "stdout",
     "output_type": "stream",
     "text": [
      "Python:Exercises::PHP:exercises:\n"
     ]
    }
   ],
   "source": [
    "import re\n",
    "\n",
    "text=\"Python Exercises, PHP exercises.\"\n",
    "\n",
    "print(re.sub(\"[ ,.]\", \":\", text))"
   ]
  },
  {
   "cell_type": "code",
   "execution_count": null,
   "id": "6f1eafb6",
   "metadata": {},
   "outputs": [],
   "source": []
  }
 ],
 "metadata": {
  "kernelspec": {
   "display_name": "Python 3 (ipykernel)",
   "language": "python",
   "name": "python3"
  },
  "language_info": {
   "codemirror_mode": {
    "name": "ipython",
    "version": 3
   },
   "file_extension": ".py",
   "mimetype": "text/x-python",
   "name": "python",
   "nbconvert_exporter": "python",
   "pygments_lexer": "ipython3",
   "version": "3.9.13"
  }
 },
 "nbformat": 4,
 "nbformat_minor": 5
}
